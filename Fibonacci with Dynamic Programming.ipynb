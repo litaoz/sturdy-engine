{
 "cells": [
  {
   "cell_type": "markdown",
   "metadata": {},
   "source": [
    "# Fibonacci Series\n",
    "\n",
    "The Fibonacci series is the series of numbers:\n",
    "0, 1, 1, 2, 3, 5, 8, 13, 21 ...\n",
    "\n",
    "The first two numbers are 0 and 1. Every number after is the sum of the previous two numbers. For example, the next number is 1, (0+1)."
   ]
  },
  {
   "cell_type": "code",
   "execution_count": 1,
   "metadata": {
    "collapsed": false
   },
   "outputs": [],
   "source": [
    "from timeit import default_timer as timer"
   ]
  },
  {
   "cell_type": "markdown",
   "metadata": {},
   "source": [
    "## Using Recursion\n",
    "Recursion is the basis of \"divide and conquer\", the idea that we can split up a problem into smaller pieces that are easier to solve."
   ]
  },
  {
   "cell_type": "code",
   "execution_count": 2,
   "metadata": {
    "collapsed": false
   },
   "outputs": [],
   "source": [
    "def fib_recursion(n):\n",
    "    if n == 0: return 0\n",
    "    if n == 1: return 1\n",
    "    else:\n",
    "        return fib_recursion(n-1) + fib_recursion(n-2)"
   ]
  },
  {
   "cell_type": "code",
   "execution_count": 3,
   "metadata": {
    "collapsed": false
   },
   "outputs": [
    {
     "name": "stdout",
     "output_type": "stream",
     "text": [
      "The average time spent is 0.503411\n"
     ]
    }
   ],
   "source": [
    "assert(fib_recursion(0) == 0)\n",
    "assert(fib_recursion(1) == 1)\n",
    "assert(fib_recursion(2) == 1)\n",
    "assert(fib_recursion(3) == 2)\n",
    "\n",
    "times = []\n",
    "for i in range(10):\n",
    "    start = timer()\n",
    "    fib_recursion(30)\n",
    "    end = timer()\n",
    "    times.append(end-start)\n",
    "    \n",
    "print(\"The average time spent is %f\" % (sum(times)/float(len(times))))"
   ]
  },
  {
   "cell_type": "markdown",
   "metadata": {},
   "source": [
    "## Using Dynamic Programming\n",
    "Dynamic programming is the usage of memoization (not to be confused for memorization) to solve problems. While dynamic programming uses recursion, the key point is that the output of the recursive techniques are stored in memory such that we do not have to recalculate the same sub-problem.\n",
    "\n",
    "Two major properties of dynamic programming include:\n",
    "1. Optimal Substructure\n",
    "2. Overlapping Sub-problems\n",
    "\n",
    "Optimal Substructure is the ability to split a problem into smaller pieces, while overlapping sub-problems mean that sub-problems repeat. For example, in the fibonacci sequence, fib(2) calculates fib(1) just as fib(3) calcluates fib(1). Instead of calculating it twice, we can calculate it once and reuse the result in all instances of the call. Merge sort is does not have overlapping sub-problems because each division is independent of each other."
   ]
  },
  {
   "cell_type": "markdown",
   "metadata": {},
   "source": [
    "### Bottom up Approach"
   ]
  },
  {
   "cell_type": "code",
   "execution_count": 4,
   "metadata": {
    "collapsed": false
   },
   "outputs": [],
   "source": [
    "def fib_dynamic_bottom(n):\n",
    "    fibSeries = [0, 1]\n",
    "    for i in range(2, n+1):\n",
    "        fibSeries.append(fibSeries[i-1] + fibSeries[i-2])\n",
    "    return fibSeries[n]"
   ]
  },
  {
   "cell_type": "code",
   "execution_count": 5,
   "metadata": {
    "collapsed": false
   },
   "outputs": [
    {
     "name": "stdout",
     "output_type": "stream",
     "text": [
      "The average time spent is 0.000016\n"
     ]
    }
   ],
   "source": [
    "assert(fib_dynamic_bottom(0) == 0)\n",
    "assert(fib_dynamic_bottom(1) == 1)\n",
    "assert(fib_dynamic_bottom(2) == 1)\n",
    "assert(fib_dynamic_bottom(3) == 2)\n",
    "\n",
    "times = []\n",
    "for i in range(10):\n",
    "    start = timer()\n",
    "    fib_dynamic_bottom(30)\n",
    "    end = timer()\n",
    "    times.append(end-start)\n",
    "    \n",
    "print(\"The average time spent is %f\" % (sum(times)/float(len(times))))"
   ]
  },
  {
   "cell_type": "code",
   "execution_count": 8,
   "metadata": {
    "collapsed": false
   },
   "outputs": [
    {
     "name": "stdout",
     "output_type": "stream",
     "text": [
      "The average time spent is 0.013856\n"
     ]
    }
   ],
   "source": [
    "times = []\n",
    "for i in range(10):\n",
    "    start = timer()\n",
    "    fib_dynamic_bottom(10000)\n",
    "    end = timer()\n",
    "    times.append(end-start)\n",
    "    \n",
    "print(\"The average time spent is %f\" % (sum(times)/float(len(times))))"
   ]
  },
  {
   "cell_type": "markdown",
   "metadata": {},
   "source": [
    "### Top-down Approach"
   ]
  },
  {
   "cell_type": "code",
   "execution_count": 10,
   "metadata": {
    "collapsed": true
   },
   "outputs": [],
   "source": [
    "fibSeries_top = {0:0, 1:1}\n",
    "def fib_dynamic_top(n):\n",
    "    if n in fibSeries_top:\n",
    "        return fibSeries_top[n]\n",
    "    \n",
    "    fibSeries_top[n] = fib_dynamic_top(n-1) + fib_dynamic_top(n-2)\n",
    "    return fib_dynamic_top(n)"
   ]
  },
  {
   "cell_type": "code",
   "execution_count": 11,
   "metadata": {
    "collapsed": false
   },
   "outputs": [
    {
     "name": "stdout",
     "output_type": "stream",
     "text": [
      "The average time spent is 0.000003\n"
     ]
    }
   ],
   "source": [
    "fibSeries_top = {0:0, 1:1}\n",
    "assert(fib_dynamic_top(0) == 0)\n",
    "assert(fib_dynamic_top(1) == 1)\n",
    "assert(fib_dynamic_top(2) == 1)\n",
    "assert(fib_dynamic_top(3) == 2)\n",
    "\n",
    "fibSeries_top = {0:0, 1:1}\n",
    "times = []\n",
    "for i in range(10):\n",
    "    start = timer()\n",
    "    fib_dynamic_top(30)\n",
    "    end = timer()\n",
    "    times.append(end-start)\n",
    "    \n",
    "print(\"The average time spent is %f\" % (sum(times)/float(len(times))))"
   ]
  },
  {
   "cell_type": "code",
   "execution_count": 14,
   "metadata": {
    "collapsed": false
   },
   "outputs": [
    {
     "name": "stdout",
     "output_type": "stream",
     "text": [
      "The average time spent is 0.000009\n"
     ]
    }
   ],
   "source": [
    "fibSeries_top = {0:0, 1:1}\n",
    "times = []\n",
    "for i in range(10):\n",
    "    start = timer()\n",
    "    fib_dynamic_top(100)\n",
    "    end = timer()\n",
    "    times.append(end-start)\n",
    "    \n",
    "print(\"The average time spent is %f\" % (sum(times)/float(len(times))))"
   ]
  },
  {
   "cell_type": "markdown",
   "metadata": {},
   "source": [
    "## Approximations\n",
    "Suprisingly, the golden ratio can be used to calculate any Fibonacci number"
   ]
  },
  {
   "cell_type": "code",
   "execution_count": 37,
   "metadata": {
    "collapsed": false
   },
   "outputs": [],
   "source": [
    "from math import sqrt\n",
    "\n",
    "goldenRatio = (1 + 5 ** 0.5) / 2\n",
    "\n",
    "def fib_goldenRatio(n):\n",
    "    return int((goldenRatio**n - (1 - goldenRatio)**n) / sqrt(5))"
   ]
  },
  {
   "cell_type": "code",
   "execution_count": 38,
   "metadata": {
    "collapsed": false
   },
   "outputs": [
    {
     "name": "stdout",
     "output_type": "stream",
     "text": [
      "The average time spent is 0.000002\n"
     ]
    }
   ],
   "source": [
    "assert(fib_goldenRatio(0) == 0)\n",
    "assert(fib_goldenRatio(1) == 1)\n",
    "assert(fib_goldenRatio(2) == 1)\n",
    "assert(fib_goldenRatio(3) == 2)\n",
    "\n",
    "times = []\n",
    "for i in range(10):\n",
    "    start = timer()\n",
    "    fib_goldenRatio(30)\n",
    "    end = timer()\n",
    "    times.append(end-start)\n",
    "    \n",
    "print(\"The average time spent is %f\" % (sum(times)/float(len(times))))"
   ]
  },
  {
   "cell_type": "code",
   "execution_count": null,
   "metadata": {
    "collapsed": true
   },
   "outputs": [],
   "source": []
  }
 ],
 "metadata": {
  "anaconda-cloud": {},
  "kernelspec": {
   "display_name": "Python [Root]",
   "language": "python",
   "name": "Python [Root]"
  },
  "language_info": {
   "codemirror_mode": {
    "name": "ipython",
    "version": 3
   },
   "file_extension": ".py",
   "mimetype": "text/x-python",
   "name": "python",
   "nbconvert_exporter": "python",
   "pygments_lexer": "ipython3",
   "version": "3.5.1"
  }
 },
 "nbformat": 4,
 "nbformat_minor": 0
}
